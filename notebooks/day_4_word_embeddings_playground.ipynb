{
 "cells": [
  {
   "cell_type": "markdown",
   "id": "eb0e8105",
   "metadata": {},
   "source": [
    "# Word Embedding Playground"
   ]
  },
  {
   "cell_type": "code",
   "execution_count": 5,
   "id": "2f053db5",
   "metadata": {},
   "outputs": [],
   "source": [
    "import spacy\n",
    "import gensim.downloader as api\n",
    "import gensim\n",
    "import csv\n",
    "\n",
    "\n",
    "import pandas as pd\n",
    "import matplotlib\n",
    "import matplotlib.pyplot as plt\n",
    "\n",
    "from sklearn.manifold import TSNE\n",
    "\n"
   ]
  },
  {
   "cell_type": "markdown",
   "id": "ca85e013",
   "metadata": {},
   "source": [
    "We can mess with word embeddings. "
   ]
  },
  {
   "cell_type": "markdown",
   "id": "6174f375",
   "metadata": {},
   "source": [
    "# Option 1: Our embeddings"
   ]
  },
  {
   "cell_type": "markdown",
   "id": "c77d57e9",
   "metadata": {},
   "source": [
    "We can use the embeddings that we trained! Or that we will train!"
   ]
  },
  {
   "cell_type": "markdown",
   "id": "a8b54cb5",
   "metadata": {},
   "source": [
    "# Option 2: Pre-trained embeddings"
   ]
  },
  {
   "cell_type": "markdown",
   "id": "97d322ad",
   "metadata": {},
   "source": [
    "Alternately, we can use pretrained vectors or embeddings downloaded from the internet. We can use Word2Vec, or GloVe, which is a model that came out a few years later and works very well. "
   ]
  },
  {
   "cell_type": "markdown",
   "id": "b3cb8aa9",
   "metadata": {},
   "source": [
    "We use `gensim` which is a great library for working with embeddings and training topic models. It has some "
   ]
  },
  {
   "cell_type": "code",
   "execution_count": 6,
   "id": "62fd072b",
   "metadata": {},
   "outputs": [],
   "source": [
    "info = api.info()"
   ]
  },
  {
   "cell_type": "markdown",
   "id": "555ff031",
   "metadata": {},
   "source": [
    "Print out available models (i.e. embeddings)"
   ]
  },
  {
   "cell_type": "code",
   "execution_count": 7,
   "id": "254b1e8e",
   "metadata": {},
   "outputs": [
    {
     "name": "stdout",
     "output_type": "stream",
     "text": [
      "__testing_word2vec-matrix-synopsis (-1 records): [THIS IS ONLY FOR TESTING] Word vecrors ...\n",
      "conceptnet-numberbatch-17-06-300 (1917247 records): ConceptNet Numberbatch consists of state...\n",
      "fasttext-wiki-news-subwords-300 (999999 records): 1 million word vectors trained on Wikipe...\n",
      "glove-twitter-100 (1193514 records): Pre-trained vectors based on  2B tweets,...\n",
      "glove-twitter-200 (1193514 records): Pre-trained vectors based on 2B tweets, ...\n",
      "glove-twitter-25 (1193514 records): Pre-trained vectors based on 2B tweets, ...\n",
      "glove-twitter-50 (1193514 records): Pre-trained vectors based on 2B tweets, ...\n",
      "glove-wiki-gigaword-100 (400000 records): Pre-trained vectors based on Wikipedia 2...\n",
      "glove-wiki-gigaword-200 (400000 records): Pre-trained vectors based on Wikipedia 2...\n",
      "glove-wiki-gigaword-300 (400000 records): Pre-trained vectors based on Wikipedia 2...\n",
      "glove-wiki-gigaword-50 (400000 records): Pre-trained vectors based on Wikipedia 2...\n",
      "word2vec-google-news-300 (3000000 records): Pre-trained vectors trained on a part of...\n",
      "word2vec-ruscorpora-300 (184973 records): Word2vec Continuous Skipgram vectors tra...\n"
     ]
    }
   ],
   "source": [
    "for model_name, model_data in sorted(info['models'].items()):\n",
    "    print(\n",
    "        '%s (%d records): %s' % (\n",
    "            model_name,\n",
    "            model_data.get('num_records', -1),\n",
    "            model_data['description'][:40] + '...',\n",
    "        )\n",
    "    )"
   ]
  },
  {
   "cell_type": "markdown",
   "id": "a2332917",
   "metadata": {},
   "source": [
    "The first time you load a new dataset it will take a while to download, and the files can be quite large."
   ]
  },
  {
   "cell_type": "code",
   "execution_count": 58,
   "id": "8b92a6a4",
   "metadata": {},
   "outputs": [
    {
     "name": "stdout",
     "output_type": "stream",
     "text": [
      "[=========-----------------------------------------] 18.3% 23.4/128.1MB downloaded"
     ]
    },
    {
     "name": "stderr",
     "output_type": "stream",
     "text": [
      "IOPub message rate exceeded.\n",
      "The Jupyter server will temporarily stop sending output\n",
      "to the client in order to avoid crashing it.\n",
      "To change this limit, set the config variable\n",
      "`--ServerApp.iopub_msg_rate_limit`.\n",
      "\n",
      "Current values:\n",
      "ServerApp.iopub_msg_rate_limit=1000.0 (msgs/sec)\n",
      "ServerApp.rate_limit_window=3.0 (secs)\n",
      "\n"
     ]
    },
    {
     "name": "stdout",
     "output_type": "stream",
     "text": [
      "[===============================-------------------] 63.1% 80.8/128.1MB downloaded"
     ]
    },
    {
     "name": "stderr",
     "output_type": "stream",
     "text": [
      "IOPub message rate exceeded.\n",
      "The Jupyter server will temporarily stop sending output\n",
      "to the client in order to avoid crashing it.\n",
      "To change this limit, set the config variable\n",
      "`--ServerApp.iopub_msg_rate_limit`.\n",
      "\n",
      "Current values:\n",
      "ServerApp.iopub_msg_rate_limit=1000.0 (msgs/sec)\n",
      "ServerApp.rate_limit_window=3.0 (secs)\n",
      "\n"
     ]
    },
    {
     "name": "stdout",
     "output_type": "stream",
     "text": [
      "[==================================================] 100.0% 128.1/128.1MB downloaded\n"
     ]
    }
   ],
   "source": [
    "\n",
    "# keep this commented out - I'm using this dataset \n",
    "model_news = api.load(\"glove-wiki-gigaword-100\")\n",
    "\n",
    "# You should use these embeddings, and compare your results with mine!\n",
    "# model_wiki =  api.load(\"glove-wiki-gigaword-50\")"
   ]
  },
  {
   "cell_type": "code",
   "execution_count": 59,
   "id": "b54824e6-e3fe-4f70-a84c-0a098319bfa7",
   "metadata": {},
   "outputs": [],
   "source": [
    "model = model_news"
   ]
  },
  {
   "cell_type": "code",
   "execution_count": 11,
   "id": "2192935f-9cb1-44ac-9d08-64566e88ecef",
   "metadata": {},
   "outputs": [
    {
     "data": {
      "text/plain": [
       "array([ 0.47039 ,  0.32983 , -0.11822 , -0.30487 ,  0.46672 ,  0.11681 ,\n",
       "        0.21571 ,  0.21465 , -0.35746 , -0.22407 , -0.71762 , -0.076821,\n",
       "       -0.096197,  0.74122 ,  0.5471  ,  0.67752 , -0.99857 ,  0.46604 ,\n",
       "        0.58265 , -1.1309  ,  1.0421  ,  1.1271  , -0.72307 ,  0.24919 ,\n",
       "       -0.13168 , -0.63536 , -0.075199,  1.1754  ,  1.1626  , -0.41526 ,\n",
       "        1.3162  ,  0.19833 , -0.040513, -0.071552, -0.11446 ,  1.6381  ,\n",
       "        1.0876  ,  0.43981 ,  1.4721  , -0.32986 ,  0.61208 ,  0.1837  ,\n",
       "        0.06253 ,  1.3017  ,  0.44427 ,  0.15249 ,  0.40017 , -1.5666  ,\n",
       "        0.83541 , -0.38038 ], dtype=float32)"
      ]
     },
     "execution_count": 11,
     "metadata": {},
     "output_type": "execute_result"
    }
   ],
   "source": [
    "model['bathroom']"
   ]
  },
  {
   "cell_type": "markdown",
   "id": "a8855641-dc96-466e-8804-6e2645d94c2e",
   "metadata": {},
   "source": []
  },
  {
   "cell_type": "markdown",
   "id": "3ddd36e2",
   "metadata": {},
   "source": [
    "## Option 3: Train Embeddings"
   ]
  },
  {
   "cell_type": "markdown",
   "id": "e13ba924",
   "metadata": {},
   "source": [
    "You can also train embeddings from a saved corpus. \n",
    "\n",
    " For our experiments, we're going to use the abstracts of all ArXiv papers in the category cs.CL (computation and language) that were published before mid-April 2021 — a total of around 25,000 documents. We tokenize these abstracts with spaCy.\n",
    "\n",
    "We define a wrapper to deal with csv data with one column.\n",
    "\n",
    "Each column contains an abstract of an NLP paper. \n",
    "\n",
    "If your csv looks different, you will have to change this function to get the right column. "
   ]
  },
  {
   "cell_type": "code",
   "execution_count": 12,
   "id": "3445c3a3",
   "metadata": {},
   "outputs": [],
   "source": [
    "class Corpus(object):\n",
    "\n",
    "    def __init__(self, filename):\n",
    "        self.filename = filename\n",
    "        self.nlp = spacy.blank(\"en\")\n",
    "        \n",
    "    def __iter__(self):\n",
    "        with open(self.filename, \"r\") as i:\n",
    "            reader = csv.reader(i, delimiter=\",\")\n",
    "            for _, abstract in reader:\n",
    "                tokens = [t.text.lower() for t in self.nlp(abstract)]\n",
    "                yield tokens\n",
    "                            "
   ]
  },
  {
   "cell_type": "code",
   "execution_count": 13,
   "id": "c360c9eb",
   "metadata": {},
   "outputs": [],
   "source": [
    "documents = Corpus(\"../data/arxiv.csv\")"
   ]
  },
  {
   "cell_type": "code",
   "execution_count": 14,
   "id": "de99290e",
   "metadata": {},
   "outputs": [],
   "source": [
    "arxiv_model = gensim.models.Word2Vec(documents, min_count=50, window=5, vector_size=100)\n",
    "arxiv_model.save(\"word2vec.arxiv.model\")"
   ]
  },
  {
   "cell_type": "code",
   "execution_count": 15,
   "id": "3fc319f5",
   "metadata": {},
   "outputs": [],
   "source": [
    "arxiv_model = arxiv_model.wv"
   ]
  },
  {
   "cell_type": "markdown",
   "id": "15b79915",
   "metadata": {},
   "source": [
    "When we train our word embeddings, gensim allows us to set a number of parameters. The most important of these are min_count, window, vector_size and sg\n",
    "\n",
    "* `min_count` is the minimum frequency of the words in our corpus. For infrequent words, we just don't have enough information to train reliable word embeddings. It therefore makes sense to set this minimum frequency to at least 10. In these experiments, we'll set it to 100 to limit the size of our model even more.\n",
    "* `window` is the number of words to the left and to the right that make up the context that word2vec will take into account.\n",
    "* `vector_size` is the dimensionality of the word vectors. This is generally between 100 and 1000. This dimensionality often forces us to make a trade-off: embeddings with a higher dimensionality are able to model more information, but also need more data to train.\n",
    "* `sg`: there are two algorithms to train word2vec: skip-gram and CBOW. Skip-gram tries to predict the context on the basis of the target word; CBOW tries to find the target on the basis of the context. By default, Gensim uses CBOW (sg=0).\n"
   ]
  },
  {
   "cell_type": "code",
   "execution_count": null,
   "id": "8e8fd9d3-32cf-4768-a61d-820714de673a",
   "metadata": {},
   "outputs": [],
   "source": []
  },
  {
   "cell_type": "markdown",
   "id": "729d50fb",
   "metadata": {},
   "source": [
    "# Playing with Embeddings"
   ]
  },
  {
   "cell_type": "markdown",
   "id": "746ef036",
   "metadata": {},
   "source": [
    "Let's take a look at the trained model. The word embeddings are on its wv attribute, and we can access them by the using the token as key. For example, here is the embedding for nlp, with the requested 100 dimensions."
   ]
  },
  {
   "cell_type": "markdown",
   "id": "cdcbc3c5",
   "metadata": {},
   "source": [
    "We can also easily find the similarity between two words. Similarity is measured as the cosine between the two word embeddings, and therefore ranges between -1 and +1. The higher the cosine, the more similar two words are. As expected, the figures below show that nmt (neural machine translation) is closer to smt (statistical machine translation) than to ner (named entity recognition)."
   ]
  },
  {
   "cell_type": "code",
   "execution_count": 16,
   "id": "e4540c17",
   "metadata": {},
   "outputs": [],
   "source": [
    "model = model_news"
   ]
  },
  {
   "cell_type": "code",
   "execution_count": 23,
   "id": "5a96afdd",
   "metadata": {},
   "outputs": [
    {
     "name": "stdout",
     "output_type": "stream",
     "text": [
      "0.5491773\n",
      "0.50700843\n",
      "0.18693028\n",
      "0.1712513\n"
     ]
    }
   ],
   "source": [
    "\n",
    "\n",
    "print(model.similarity(\"capitalism\", \"evil\"))\n",
    "print(model.similarity(\"communism\", \"evil\"))\n",
    "print(model.similarity(\"anarchism\", \"evil\"))\n",
    "print(model.similarity(\"libertarianism\", \"evil\"))\n"
   ]
  },
  {
   "cell_type": "markdown",
   "id": "3483edb2",
   "metadata": {},
   "source": [
    "\n",
    "\n",
    "In a similar vein, we can find the words that are most similar to a target word. The words with the most similar embedding to bert are all semantically related to it: other types of pretrained models such as roberta, mbert, xlm, as well as the more general model type BERT represents (transformer and transformers), and more generally related words (pretrained)"
   ]
  },
  {
   "cell_type": "code",
   "execution_count": 32,
   "id": "10824b33",
   "metadata": {},
   "outputs": [
    {
     "data": {
      "text/plain": [
       "[('smooth-coated', 0.7635948061943054),\n",
       " ('raccoon', 0.717721164226532),\n",
       " ('beaver', 0.7122237682342529),\n",
       " ('gull', 0.7109364867210388),\n",
       " ('mink', 0.6994276642799377),\n",
       " ('goose', 0.6876475811004639),\n",
       " ('pigeon', 0.6668442487716675),\n",
       " ('heiberg', 0.65448397397995),\n",
       " ('sofie', 0.6500213742256165),\n",
       " ('swan', 0.6461095809936523)]"
      ]
     },
     "execution_count": 32,
     "metadata": {},
     "output_type": "execute_result"
    }
   ],
   "source": [
    "model.similar_by_word(\"otter\", topn=10)"
   ]
  },
  {
   "cell_type": "markdown",
   "id": "3982fb8d",
   "metadata": {},
   "source": [
    "Interestingly, we can look for words that are similar to a set of words and dissimilar to another set of words at the same time. This allows us to look for analogies of the type BERT is to a transformer like an LSTM is to .... Our embedding model correctly predicts that LSTMs are a type of RNN, just like BERT is a particular type of transformer.\n",
    "\n",
    "    > solves\n",
    "    > 3 : 1 :: 2 : _____\n",
    "    > man : king :: woman : _______"
   ]
  },
  {
   "cell_type": "code",
   "execution_count": 34,
   "id": "0f1278ec",
   "metadata": {},
   "outputs": [
    {
     "data": {
      "text/plain": [
       "[('queen', 0.8523604273796082),\n",
       " ('throne', 0.7664334177970886),\n",
       " ('prince', 0.7592144012451172),\n",
       " ('daughter', 0.7473883628845215),\n",
       " ('elizabeth', 0.7460219860076904),\n",
       " ('princess', 0.7424570322036743),\n",
       " ('kingdom', 0.7337412238121033),\n",
       " ('monarch', 0.721449077129364),\n",
       " ('eldest', 0.7184861898422241),\n",
       " ('widow', 0.7099431157112122)]"
      ]
     },
     "execution_count": 34,
     "metadata": {},
     "output_type": "execute_result"
    }
   ],
   "source": [
    "model.most_similar(positive=[\"king\", \"woman\"], negative=[\"man\"], topn=10)"
   ]
  },
  {
   "cell_type": "code",
   "execution_count": 60,
   "id": "ce8d89dc-39bd-4c03-91df-613fd0d75794",
   "metadata": {},
   "outputs": [
    {
     "data": {
      "text/plain": [
       "[('bread', 0.658203125),\n",
       " ('sandwich', 0.6400274634361267),\n",
       " ('pie', 0.6160756349563599),\n",
       " ('cakes', 0.6046992540359497),\n",
       " ('cookie', 0.6032609939575195),\n",
       " ('hut', 0.5826258063316345),\n",
       " ('baked', 0.5723884701728821),\n",
       " ('dough', 0.5608364939689636),\n",
       " ('baking', 0.5595906376838684),\n",
       " ('butter', 0.5594030022621155)]"
      ]
     },
     "execution_count": 60,
     "metadata": {},
     "output_type": "execute_result"
    }
   ],
   "source": [
    "model.most_similar(positive=[\"cake\", 'pizza'], negative=[\"dessert\"], topn=10)"
   ]
  },
  {
   "cell_type": "markdown",
   "id": "ed053854",
   "metadata": {},
   "source": [
    "#### Exercise: solve the analogy with your vectors!\n",
    "    \n",
    "    > pasta : pizza :: poutine : _____"
   ]
  },
  {
   "cell_type": "code",
   "execution_count": 47,
   "id": "098c10bb",
   "metadata": {},
   "outputs": [],
   "source": [
    "# work here\n",
    "#\n",
    "#\n"
   ]
  },
  {
   "cell_type": "markdown",
   "id": "64942963",
   "metadata": {},
   "source": [
    "## Disambiguation"
   ]
  },
  {
   "cell_type": "markdown",
   "id": "e8cec2e4",
   "metadata": {},
   "source": [
    "\n",
    "\n",
    "Similarly, we can also zoom in on one of the meanings of ambiguous words. For example, in NLP tree has a very specific meaning, which is obvious from its nearest neighbours constituency, parse, dependency and syntax.\n"
   ]
  },
  {
   "cell_type": "code",
   "execution_count": 61,
   "id": "e0a01300",
   "metadata": {},
   "outputs": [
    {
     "data": {
      "text/plain": [
       "[('napoletana', 0.5071167349815369)]"
      ]
     },
     "execution_count": 61,
     "metadata": {},
     "output_type": "execute_result"
    }
   ],
   "source": [
    "model.most_similar(positive=[\"pizza\", \"poutine\"], negative=[\"pasta\"], topn=1)"
   ]
  },
  {
   "cell_type": "code",
   "execution_count": 80,
   "id": "03924caf",
   "metadata": {},
   "outputs": [
    {
     "data": {
      "text/plain": [
       "[('players', 0.83854079246521),\n",
       " ('play', 0.7879276871681213),\n",
       " ('playing', 0.7753530144691467),\n",
       " ('game', 0.7579816579818726),\n",
       " ('team', 0.7488577961921692),\n",
       " ('football', 0.7376238107681274),\n",
       " ('played', 0.7316332459449768),\n",
       " ('plays', 0.7003870606422424),\n",
       " ('professional', 0.6977413892745972),\n",
       " ('basketball', 0.6963555812835693)]"
      ]
     },
     "execution_count": 80,
     "metadata": {},
     "output_type": "execute_result"
    }
   ],
   "source": [
    "model.most_similar(positive=[\"player\"], topn=10)"
   ]
  },
  {
   "cell_type": "markdown",
   "id": "18cf4181",
   "metadata": {},
   "source": [
    "\n",
    "\n",
    "However, if we specify we're looking for words that are similar to tree, but dissimilar to forest, suddenly it gives a different, more domesticated image of a tree.\n"
   ]
  },
  {
   "cell_type": "code",
   "execution_count": 63,
   "id": "69aeb97d",
   "metadata": {},
   "outputs": [
    {
     "data": {
      "text/plain": [
       "[('twiggy', 0.5055817365646362),\n",
       " ('spool', 0.48513951897621155),\n",
       " ('frond', 0.4610969126224518),\n",
       " ('daisy', 0.4511006772518158),\n",
       " ('powerpc', 0.44649988412857056),\n",
       " ('screw', 0.4420185387134552),\n",
       " ('tulip', 0.43746548891067505),\n",
       " ('huggers', 0.42768552899360657),\n",
       " ('ornament', 0.4260554313659668),\n",
       " ('plucking', 0.4256293475627899)]"
      ]
     },
     "execution_count": 63,
     "metadata": {},
     "output_type": "execute_result"
    }
   ],
   "source": [
    "model.most_similar(positive=[\"tree\"], negative=[\"forest\"], topn=10)"
   ]
  },
  {
   "cell_type": "markdown",
   "id": "831b54e2",
   "metadata": {},
   "source": [
    "\n",
    "\n",
    "Finally, we can present the word2vec model with a list of words and ask it to identify the odd one out. It then uses the word embeddings to identify the word that is least similar to the other ones. For example, in the list lstm cnn gru svm transformer, it correctly identifies svm as the only non-neural model. In the list bert word2vec gpt-2 roberta xlnet, it correctly singles out word2vec as the only non-transormer model. In word2vec bert glove fasttext elmo, bert is singled out as the only transformer.\n"
   ]
  },
  {
   "cell_type": "code",
   "execution_count": 70,
   "id": "ae4c5ec6",
   "metadata": {},
   "outputs": [
    {
     "name": "stdout",
     "output_type": "stream",
     "text": [
      "drab\n",
      "bureaucracy\n",
      "elmo\n",
      "turtle\n"
     ]
    }
   ],
   "source": [
    "print(model.doesnt_match(\"effervescent bubbly sparkling drab\".split()))\n",
    "print(model.doesnt_match(\"monarchy democracy bureaucracy communism socialism\".split()))\n",
    "print(model.doesnt_match(\"bert ernie elmo barney\".split()))\n",
    "print(model.doesnt_match(\"saving turtle thrifty cautious\".split()))"
   ]
  },
  {
   "cell_type": "markdown",
   "id": "12dd3cd4",
   "metadata": {},
   "source": [
    "# Plotting Embeddings"
   ]
  },
  {
   "cell_type": "markdown",
   "id": "0a4018de",
   "metadata": {},
   "source": [
    "\n",
    "\n",
    "Let's now visualize some of our embeddings. To plot embeddings with a dimensionality of 100 or more, we first need to map them to a dimensionality of 2. We do this with the popular t-SNE method. T-SNE, short for t-distributed Stochastic Neighbor Embedding, helps us visualize high-dimensional data by mapping similar data to nearby points and dissimilar data to distance points in the low-dimensional space.\n",
    "\n",
    "T-SNE is present in Scikit-learn. To run it, we just have to specify the number of dimensions we'd like to map the data to (n_components), and the similarity metric that t-SNE should use to compute the similarity between two data points (metric). We're going to map to 2 dimensions and use the cosine as our similarity metric. Additionally, we use PCA as an initialization method to remove some noise and speed up computation. The Scikit-learn user guide contains some additional tips for optimizing performance.\n",
    "\n",
    "Plotting all the embeddings in our vector space would result in a very crowded figure where the labels are hardly legible. Therefore we'll focus on a subset of embeddings by selecting the 200 most similar words to a target word.\n",
    "\n"
   ]
  },
  {
   "cell_type": "code",
   "execution_count": 73,
   "id": "2eb6a424",
   "metadata": {},
   "outputs": [],
   "source": [
    "\n",
    "# list of words to map\n",
    "target_word = \"disaster\"\n",
    "selected_words = [w[0] for w in model.most_similar(positive=[target_word], topn=100)] + [target_word]\n",
    "\n",
    "# list of embeddings for our target words\n",
    "embeddings = [model[w] for w in selected_words] + model[\"bert\"]\n",
    "\n",
    "# 2-D reduction of embeddings\n",
    "mapped_embeddings = TSNE(n_components=2, metric='cosine', init='pca').fit_transform(embeddings)\n",
    "\n"
   ]
  },
  {
   "cell_type": "markdown",
   "id": "c0a561de",
   "metadata": {},
   "source": [
    "\n",
    "If we take bert as our target word, the figure shows some interesting patterns. In the immediate vicinity of bert, we find the similar transformer models that we already identified as its nearest neighbours earlier: xlm, mbert, gpt-2, and so on. Other parts of the picture have equally informative clusters of NLP tasks and benchmarks (squad and glue), languages (german and english), neural-network architectures (lstm, gru, etc.), embedding types (word2vec, glove, fasttext, elmo), etc.\n"
   ]
  },
  {
   "cell_type": "code",
   "execution_count": 74,
   "id": "556f409f",
   "metadata": {},
   "outputs": [
    {
     "data": {
      "image/png": "[encoded data removed]",
      "text/plain": [
       "<Figure size 2000x2000 with 1 Axes>"
      ]
     },
     "metadata": {},
     "output_type": "display_data"
    }
   ],
   "source": [
    "%matplotlib inline\n",
    "\n",
    "\n",
    "plt.figure(figsize=(20,20))\n",
    "x = mapped_embeddings[:,0]\n",
    "y = mapped_embeddings[:,1]\n",
    "plt.scatter(x, y)\n",
    "\n",
    "\n",
    "# add labels to our map visualization\n",
    "for i, txt in enumerate(selected_words):\n",
    "    plt.annotate(txt, (x[i], y[i]))"
   ]
  },
  {
   "cell_type": "markdown",
   "id": "795e2b40",
   "metadata": {},
   "source": [
    "# Compare to Twitter"
   ]
  },
  {
   "cell_type": "markdown",
   "id": "e191ea81",
   "metadata": {},
   "source": [
    "Here are 50 dimension GloVe vectors from twitter. Use these for the exercises below."
   ]
  },
  {
   "cell_type": "code",
   "execution_count": 75,
   "id": "5f441251",
   "metadata": {},
   "outputs": [
    {
     "name": "stdout",
     "output_type": "stream",
     "text": [
      "[===-----------------------------------------------] 6.1% 23.4/387.1MB downloaded"
     ]
    },
    {
     "name": "stderr",
     "output_type": "stream",
     "text": [
      "IOPub message rate exceeded.\n",
      "The Jupyter server will temporarily stop sending output\n",
      "to the client in order to avoid crashing it.\n",
      "To change this limit, set the config variable\n",
      "`--ServerApp.iopub_msg_rate_limit`.\n",
      "\n",
      "Current values:\n",
      "ServerApp.iopub_msg_rate_limit=1000.0 (msgs/sec)\n",
      "ServerApp.rate_limit_window=3.0 (secs)\n",
      "\n"
     ]
    },
    {
     "name": "stdout",
     "output_type": "stream",
     "text": [
      "[=========-----------------------------------------] 18.3% 71.0/387.1MB downloaded"
     ]
    },
    {
     "name": "stderr",
     "output_type": "stream",
     "text": [
      "IOPub message rate exceeded.\n",
      "The Jupyter server will temporarily stop sending output\n",
      "to the client in order to avoid crashing it.\n",
      "To change this limit, set the config variable\n",
      "`--ServerApp.iopub_msg_rate_limit`.\n",
      "\n",
      "Current values:\n",
      "ServerApp.iopub_msg_rate_limit=1000.0 (msgs/sec)\n",
      "ServerApp.rate_limit_window=3.0 (secs)\n",
      "\n"
     ]
    },
    {
     "name": "stdout",
     "output_type": "stream",
     "text": [
      "[================----------------------------------] 32.2% 124.8/387.1MB downloaded"
     ]
    },
    {
     "name": "stderr",
     "output_type": "stream",
     "text": [
      "IOPub message rate exceeded.\n",
      "The Jupyter server will temporarily stop sending output\n",
      "to the client in order to avoid crashing it.\n",
      "To change this limit, set the config variable\n",
      "`--ServerApp.iopub_msg_rate_limit`.\n",
      "\n",
      "Current values:\n",
      "ServerApp.iopub_msg_rate_limit=1000.0 (msgs/sec)\n",
      "ServerApp.rate_limit_window=3.0 (secs)\n",
      "\n"
     ]
    },
    {
     "name": "stdout",
     "output_type": "stream",
     "text": [
      "[=====================-----------------------------] 43.3% 167.6/387.1MB downloaded"
     ]
    },
    {
     "name": "stderr",
     "output_type": "stream",
     "text": [
      "IOPub message rate exceeded.\n",
      "The Jupyter server will temporarily stop sending output\n",
      "to the client in order to avoid crashing it.\n",
      "To change this limit, set the config variable\n",
      "`--ServerApp.iopub_msg_rate_limit`.\n",
      "\n",
      "Current values:\n",
      "ServerApp.iopub_msg_rate_limit=1000.0 (msgs/sec)\n",
      "ServerApp.rate_limit_window=3.0 (secs)\n",
      "\n"
     ]
    },
    {
     "name": "stdout",
     "output_type": "stream",
     "text": [
      "[=======================---------------------------] 47.7% 184.8/387.1MB downloaded"
     ]
    },
    {
     "name": "stderr",
     "output_type": "stream",
     "text": [
      "IOPub message rate exceeded.\n",
      "The Jupyter server will temporarily stop sending output\n",
      "to the client in order to avoid crashing it.\n",
      "To change this limit, set the config variable\n",
      "`--ServerApp.iopub_msg_rate_limit`.\n",
      "\n",
      "Current values:\n",
      "ServerApp.iopub_msg_rate_limit=1000.0 (msgs/sec)\n",
      "ServerApp.rate_limit_window=3.0 (secs)\n",
      "\n"
     ]
    },
    {
     "name": "stdout",
     "output_type": "stream",
     "text": [
      "[==============================--------------------] 60.5% 234.4/387.1MB downloaded"
     ]
    },
    {
     "name": "stderr",
     "output_type": "stream",
     "text": [
      "IOPub message rate exceeded.\n",
      "The Jupyter server will temporarily stop sending output\n",
      "to the client in order to avoid crashing it.\n",
      "To change this limit, set the config variable\n",
      "`--ServerApp.iopub_msg_rate_limit`.\n",
      "\n",
      "Current values:\n",
      "ServerApp.iopub_msg_rate_limit=1000.0 (msgs/sec)\n",
      "ServerApp.rate_limit_window=3.0 (secs)\n",
      "\n"
     ]
    },
    {
     "name": "stdout",
     "output_type": "stream",
     "text": [
      "[======================================------------] 77.6% 300.6/387.1MB downloaded"
     ]
    },
    {
     "name": "stderr",
     "output_type": "stream",
     "text": [
      "IOPub message rate exceeded.\n",
      "The Jupyter server will temporarily stop sending output\n",
      "to the client in order to avoid crashing it.\n",
      "To change this limit, set the config variable\n",
      "`--ServerApp.iopub_msg_rate_limit`.\n",
      "\n",
      "Current values:\n",
      "ServerApp.iopub_msg_rate_limit=1000.0 (msgs/sec)\n",
      "ServerApp.rate_limit_window=3.0 (secs)\n",
      "\n"
     ]
    },
    {
     "name": "stdout",
     "output_type": "stream",
     "text": [
      "[==============================================----] 93.2% 360.6/387.1MB downloaded"
     ]
    },
    {
     "name": "stderr",
     "output_type": "stream",
     "text": [
      "IOPub message rate exceeded.\n",
      "The Jupyter server will temporarily stop sending output\n",
      "to the client in order to avoid crashing it.\n",
      "To change this limit, set the config variable\n",
      "`--ServerApp.iopub_msg_rate_limit`.\n",
      "\n",
      "Current values:\n",
      "ServerApp.iopub_msg_rate_limit=1000.0 (msgs/sec)\n",
      "ServerApp.rate_limit_window=3.0 (secs)\n",
      "\n"
     ]
    }
   ],
   "source": [
    "# download the model and return as object ready for use\n",
    "# embeddings_glove_twitter = api.load(\"glove-twitter-25\")\n",
    "model_glove_twitter = api.load(\"glove-twitter-100\")\n",
    "\n"
   ]
  },
  {
   "cell_type": "markdown",
   "id": "19176a7a",
   "metadata": {},
   "source": [
    "## Exercise: Semantic Similarity\n",
    "\n",
    "\n",
    "What is the semantic similarity between 'meaning' and 'interpretation' in twitter space?\n",
    "What about meaning and extract?\n",
    "\n",
    "How does this compare to the arxiv embeddings?"
   ]
  },
  {
   "cell_type": "code",
   "execution_count": null,
   "id": "6ac0e497",
   "metadata": {},
   "outputs": [],
   "source": [
    "# answer here\n",
    "#\n",
    "#\n",
    " \n",
    " "
   ]
  },
  {
   "cell_type": "markdown",
   "id": "d8a41740",
   "metadata": {},
   "source": [
    "Pick two more concepts and compare their cosine similarity in two different vector space models"
   ]
  },
  {
   "cell_type": "markdown",
   "id": "3e03263a",
   "metadata": {},
   "source": [
    "## Exercise: Near Neighbors\n",
    "\n",
    "What are the nearest neighbors of these concepts?"
   ]
  },
  {
   "cell_type": "code",
   "execution_count": null,
   "id": "5dbc26a5",
   "metadata": {},
   "outputs": [],
   "source": [
    "# answer here\n",
    "#\n",
    "#\n",
    "#"
   ]
  },
  {
   "cell_type": "markdown",
   "id": "cfe3af33",
   "metadata": {},
   "source": [
    "## Exercise: Analogy\n",
    "\n",
    "How does twitter solve the tree analogy?"
   ]
  },
  {
   "cell_type": "code",
   "execution_count": null,
   "id": "02f430e8",
   "metadata": {},
   "outputs": [],
   "source": [
    "# answer here\n",
    "#\n",
    "#\n"
   ]
  },
  {
   "cell_type": "markdown",
   "id": "6b5d3a85",
   "metadata": {},
   "source": [
    "Try another analogy. What is the result? In your mind, what shoudl the answer be?"
   ]
  },
  {
   "cell_type": "code",
   "execution_count": null,
   "id": "92c48276",
   "metadata": {},
   "outputs": [],
   "source": [
    "# answer here\n",
    "#\n",
    "#\n"
   ]
  },
  {
   "cell_type": "markdown",
   "id": "82c99f61",
   "metadata": {},
   "source": [
    "# Exercise: Plot spatial relationships\n",
    "\n",
    "Pick a set of words that are related to each other in the same way. For instance you could use countries and their capitals, or adjectives and their superlatives\n",
    "\n",
    "e.g.\n",
    "\n",
    "```\n",
    "Rome - Italy\n",
    "\n",
    "Beijing - China\n",
    "\n",
    "Berlin - Germany\n",
    "\n",
    "Ottowa - Canada\n",
    "```\n",
    "\n",
    "superlatives\n",
    "``` \n",
    "bad - worse\n",
    "\n",
    "good - better\n",
    "\n",
    "warm - warmer\n",
    "\n",
    "red - redder\n",
    "\n",
    "blue - bluer\n",
    "```\n",
    "\n",
    "What do you notice?"
   ]
  },
  {
   "cell_type": "code",
   "execution_count": null,
   "id": "9108abd1",
   "metadata": {},
   "outputs": [],
   "source": [
    "\"\"\"\n",
    "Answer here\n",
    "\n",
    "You'll need to copy the code for visualization from above \n",
    "but edit certain parts to give you the embeddings of the words \n",
    "you want to look at\n",
    "\"\"\" \n",
    "\n",
    "\n",
    "\n",
    "\n",
    "\n",
    "\"\"\"\n",
    "\"\"\""
   ]
  },
  {
   "cell_type": "markdown",
   "id": "b61ef4c8",
   "metadata": {},
   "source": [
    "#  Training new embeddings"
   ]
  },
  {
   "cell_type": "markdown",
   "id": "da09be81",
   "metadata": {},
   "source": [
    "## Load your own corpus"
   ]
  },
  {
   "cell_type": "markdown",
   "id": "699a2e88",
   "metadata": {},
   "source": [
    "Or choose one of the corpora saved in `../data`"
   ]
  },
  {
   "cell_type": "markdown",
   "id": "43f370f3",
   "metadata": {},
   "source": [
    "Load the corpus into memory (returns a Dataset object, which is the exact kind of object we need)."
   ]
  },
  {
   "cell_type": "markdown",
   "id": "0e7e92a2-4f40-431a-adbe-7074a7eff8fc",
   "metadata": {},
   "source": [
    "We define a wrapper to deal with csv data with one column.\n",
    "\n",
    "Each column contains an abstract of an NLP paper. \n",
    "\n",
    "If your csv looks different, you will have to change this function to get the right column. "
   ]
  },
  {
   "cell_type": "code",
   "execution_count": null,
   "id": "1c026fd6",
   "metadata": {},
   "outputs": [],
   "source": []
  }
 ],
 "metadata": {
  "kernelspec": {
   "display_name": "Python 3 (ipykernel)",
   "language": "python",
   "name": "python3"
  },
  "language_info": {
   "codemirror_mode": {
    "name": "ipython",
    "version": 3
   },
   "file_extension": ".py",
   "mimetype": "text/x-python",
   "name": "python",
   "nbconvert_exporter": "python",
   "pygments_lexer": "ipython3",
   "version": "3.11.4"
  }
 },
 "nbformat": 4,
 "nbformat_minor": 5
}
